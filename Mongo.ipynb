{
 "cells": [
  {
   "cell_type": "code",
   "execution_count": 1,
   "metadata": {},
   "outputs": [],
   "source": [
    "##read Data Base\n",
    "from pymongo import MongoClient\n",
    "from bson.objectid import ObjectId\n",
    "uri = \"mongodb://localhost:27017/database\" #mongodb://<user_name>:<user_password>@ds<xxxxxx>.mlab.com:<xxxxx>/<database_name>\n",
    "conn = MongoClient(uri)\n",
    "db = conn.PaperData"
   ]
  },
  {
   "cell_type": "code",
   "execution_count": 4,
   "metadata": {},
   "outputs": [],
   "source": [
    "import os\n",
    "import json\n",
    "import sys"
   ]
  },
  {
   "cell_type": "code",
   "execution_count": null,
   "metadata": {},
   "outputs": [],
   "source": []
  },
  {
   "cell_type": "code",
   "execution_count": 5,
   "metadata": {},
   "outputs": [],
   "source": [
    "X_List = json.load(open('New_x_train.json')) + json.load(open('New_x_test.json')) + json.load(open('New_x_val.json'))"
   ]
  },
  {
   "cell_type": "code",
   "execution_count": 6,
   "metadata": {},
   "outputs": [
    {
     "data": {
      "text/plain": [
       "42427"
      ]
     },
     "execution_count": 6,
     "metadata": {},
     "output_type": "execute_result"
    }
   ],
   "source": [
    "len(X_List)"
   ]
  },
  {
   "cell_type": "code",
   "execution_count": 7,
   "metadata": {},
   "outputs": [],
   "source": [
    "Json_Path = '/root/Disk/'"
   ]
  },
  {
   "cell_type": "code",
   "execution_count": 8,
   "metadata": {},
   "outputs": [],
   "source": [
    "W2V_List = ['W2V_Re_80_25_100','W2V_Pre_80_25_100','W2V_Self_80_25_100']"
   ]
  },
  {
   "cell_type": "code",
   "execution_count": 14,
   "metadata": {},
   "outputs": [],
   "source": [
    "collection =db.get_collection('W2V_Re_80_25_100')"
   ]
  },
  {
   "cell_type": "code",
   "execution_count": 12,
   "metadata": {},
   "outputs": [],
   "source": [
    "collection.find_one({\"Filename\":'Test'})"
   ]
  },
  {
   "cell_type": "code",
   "execution_count": 28,
   "metadata": {},
   "outputs": [
    {
     "name": "stdout",
     "output_type": "stream",
     "text": [
      "W2V_Pre_80_25_100\n",
      " 53085Filename_text\n",
      "Collection:  W2V_Pre_80_25_100  count: 42427\n",
      "W2V_Self_80_25_100\n",
      " 1"
     ]
    },
    {
     "name": "stderr",
     "output_type": "stream",
     "text": [
      "/usr/local/lib/python3.6/dist-packages/ipykernel_launcher.py:32: DeprecationWarning: count is deprecated. Use estimated_document_count or count_documents instead. Please note that $where must be replaced by $expr, $near must be replaced by $geoWithin with $center, and $nearSphere must be replaced by $geoWithin with $centerSphere\n"
     ]
    },
    {
     "name": "stdout",
     "output_type": "stream",
     "text": [
      " 53085Filename_text\n",
      "Collection:  W2V_Self_80_25_100  count: 42427\n"
     ]
    }
   ],
   "source": [
    "Exception_List = []\n",
    "for W2V in W2V_List[1:]:\n",
    "    print(W2V)\n",
    "    collection = db.get_collection(W2V)\n",
    "    file_name = os.path.join(Json_Path, W2V+'.json')\n",
    "    ctr = 0\n",
    "    with open(file_name, 'r', encoding='utf8') as infile:\n",
    "        \n",
    "        for line_data in infile:\n",
    "            ctr += 1\n",
    "            \n",
    "            sys.stdout.write(\"\\r {}\".format(ctr))\n",
    "            sys.stdout.flush()\n",
    "            #if ctr <50000:\n",
    "            #    continue\n",
    "            \n",
    "            line_json = json.loads(line_data)\n",
    "            \n",
    "            if line_json['Filename'] not in X_List:\n",
    "                continue\n",
    "            \n",
    "            #if collection.find({\"$text\": {\"$search\":{\"Filename\":line_json['Filename']}}}) !=None:  \n",
    "            else:\n",
    "                try:\n",
    "                    collection.insert_one({\"Filename\":line_json['Filename'], \"LineMatrix\":line_json['LineMatrix']})\n",
    "        \n",
    "                except Exception as e:\n",
    "                    print(e)\n",
    "                    Exception_List.append(line_data)\n",
    "    #collction.drop_indexes()\n",
    "    print(collection.create_index([('Filename', 'text')]))\n",
    "    print(\"Collection: \", W2V, \" count:\", collection.count())\n",
    "    "
   ]
  },
  {
   "cell_type": "code",
   "execution_count": 25,
   "metadata": {},
   "outputs": [
    {
     "data": {
      "text/plain": [
       "'Filename_text'"
      ]
     },
     "execution_count": 25,
     "metadata": {},
     "output_type": "execute_result"
    }
   ],
   "source": [
    "collection.create_index([('Filename', 'text')])"
   ]
  },
  {
   "cell_type": "code",
   "execution_count": 21,
   "metadata": {},
   "outputs": [
    {
     "data": {
      "text/plain": [
       "False"
      ]
     },
     "execution_count": 21,
     "metadata": {},
     "output_type": "execute_result"
    }
   ],
   "source": [
    "collection.find({\"$text\": {\"$search\":{\"Filename\":X_List[0]}}}) == None"
   ]
  },
  {
   "cell_type": "code",
   "execution_count": 24,
   "metadata": {},
   "outputs": [],
   "source": [
    "collction.drop_indexes()"
   ]
  },
  {
   "cell_type": "code",
   "execution_count": null,
   "metadata": {},
   "outputs": [],
   "source": []
  }
 ],
 "metadata": {
  "kernelspec": {
   "display_name": "Python 3",
   "language": "python",
   "name": "python3"
  },
  "language_info": {
   "codemirror_mode": {
    "name": "ipython",
    "version": 3
   },
   "file_extension": ".py",
   "mimetype": "text/x-python",
   "name": "python",
   "nbconvert_exporter": "python",
   "pygments_lexer": "ipython3",
   "version": "3.6.8"
  }
 },
 "nbformat": 4,
 "nbformat_minor": 2
}
